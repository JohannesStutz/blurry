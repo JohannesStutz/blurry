{
 "cells": [
  {
   "cell_type": "code",
   "execution_count": null,
   "id": "allied-mayor",
   "metadata": {},
   "outputs": [
    {
     "name": "stdout",
     "output_type": "stream",
     "text": [
      "The autoreload extension is already loaded. To reload it, use:\n",
      "  %reload_ext autoreload\n"
     ]
    }
   ],
   "source": [
    "# default_exp __main__\n",
    "%load_ext autoreload\n",
    "%autoreload 2"
   ]
  },
  {
   "cell_type": "markdown",
   "id": "robust-scheduling",
   "metadata": {},
   "source": [
    "# Command Line Interface for Blurry\n",
    "> The CLI for Blurry. Blur faces in images and videos with the command line."
   ]
  },
  {
   "cell_type": "code",
   "execution_count": null,
   "id": "applied-smith",
   "metadata": {},
   "outputs": [],
   "source": [
    "#hide\n",
    "from nbdev.showdoc import *"
   ]
  },
  {
   "cell_type": "code",
   "execution_count": null,
   "id": "facial-speaking",
   "metadata": {},
   "outputs": [],
   "source": [
    "#export\n",
    "from blurry.core import *\n",
    "import argparse\n",
    "#import sys"
   ]
  },
  {
   "cell_type": "code",
   "execution_count": null,
   "id": "suburban-python",
   "metadata": {},
   "outputs": [],
   "source": [
    "def main():\n",
    "    pass"
   ]
  },
  {
   "cell_type": "code",
   "execution_count": null,
   "id": "serious-circuit",
   "metadata": {},
   "outputs": [],
   "source": [
    "def parse_arguments():\n",
    "    pass"
   ]
  },
  {
   "cell_type": "code",
   "execution_count": null,
   "id": "assumed-trout",
   "metadata": {},
   "outputs": [],
   "source": [
    "#export\n",
    "def in_notebook():\n",
    "    \"Returns True if run in a notebook environment.\"\n",
    "    try:\n",
    "        from IPython import get_ipython\n",
    "        if 'IPKernelApp' not in get_ipython().config:\n",
    "            return False\n",
    "    except:\n",
    "        return False\n",
    "    return True"
   ]
  },
  {
   "cell_type": "markdown",
   "id": "consecutive-university",
   "metadata": {},
   "source": [
    "Execution in shell:"
   ]
  },
  {
   "cell_type": "code",
   "execution_count": null,
   "id": "known-lambda",
   "metadata": {},
   "outputs": [],
   "source": [
    "#export\n",
    "if __name__ == '__main__' and not in_notebook():\n",
    "    args = parse_arguments()"
   ]
  },
  {
   "cell_type": "code",
   "execution_count": null,
   "id": "developmental-mason",
   "metadata": {},
   "outputs": [
    {
     "name": "stdout",
     "output_type": "stream",
     "text": [
      "Converted 00_core.ipynb.\n",
      "Converted 01_webcam.ipynb.\n",
      "Converted 02_cli.ipynb.\n",
      "Converted index.ipynb.\n"
     ]
    }
   ],
   "source": [
    "#hide\n",
    "from nbdev.export import notebook2script; notebook2script()"
   ]
  },
  {
   "cell_type": "code",
   "execution_count": null,
   "id": "exterior-joyce",
   "metadata": {},
   "outputs": [],
   "source": []
  }
 ],
 "metadata": {
  "kernelspec": {
   "display_name": "data-sci",
   "language": "python",
   "name": "data-sci"
  }
 },
 "nbformat": 4,
 "nbformat_minor": 5
}
