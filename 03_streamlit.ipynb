{
 "cells": [
  {
   "cell_type": "code",
   "execution_count": null,
   "id": "violent-account",
   "metadata": {},
   "outputs": [
    {
     "name": "stdout",
     "output_type": "stream",
     "text": [
      "The autoreload extension is already loaded. To reload it, use:\n",
      "  %reload_ext autoreload\n"
     ]
    }
   ],
   "source": [
    "# default_exp streamlit\n",
    "%load_ext autoreload\n",
    "%autoreload 2"
   ]
  },
  {
   "cell_type": "markdown",
   "id": "industrial-multiple",
   "metadata": {},
   "source": [
    "# Streamlit App\n",
    "> A simple web app for Blurry"
   ]
  },
  {
   "cell_type": "code",
   "execution_count": null,
   "id": "generic-negative",
   "metadata": {},
   "outputs": [],
   "source": [
    "#export\n",
    "#from core import *\n",
    "#from blurry.core import *\n",
    "import blurry.core as bl\n",
    "import streamlit as st\n",
    "import numpy as np\n",
    "from PIL import Image"
   ]
  },
  {
   "cell_type": "code",
   "execution_count": null,
   "id": "joined-rental",
   "metadata": {},
   "outputs": [],
   "source": [
    "#export\n",
    "st.title(\"Blurry\");\n",
    "st.write(\"Upload any photo with people in it, and this tool will pixelate the faces.\")\n",
    "uploaded_file = st.file_uploader(\"Upload a photo:\", type=['png', 'jpg', 'jpeg'], accept_multiple_files=False)"
   ]
  },
  {
   "cell_type": "code",
   "execution_count": null,
   "id": "divine-healing",
   "metadata": {},
   "outputs": [],
   "source": [
    "#export\n",
    "if uploaded_file is not None:\n",
    "    st.write(\"File uploaded, processing...\")\n",
    "    img = Image.open(uploaded_file)\n",
    "    img_array = np.array(img)\n",
    "    anon_img = bl.anonymize(img_array, mode='pixelate')\n",
    "    st.image(anon_img, caption=\" \", use_column_width=True)"
   ]
  },
  {
   "cell_type": "code",
   "execution_count": null,
   "id": "exotic-repair",
   "metadata": {},
   "outputs": [],
   "source": []
  },
  {
   "cell_type": "code",
   "execution_count": null,
   "id": "private-breath",
   "metadata": {},
   "outputs": [
    {
     "name": "stdout",
     "output_type": "stream",
     "text": [
      "Converted 00_core.ipynb.\n",
      "Converted 01_webcam.ipynb.\n",
      "Converted 02_cli.ipynb.\n",
      "Converted 03_streamlit.ipynb.\n",
      "Converted index.ipynb.\n"
     ]
    }
   ],
   "source": [
    "#hide\n",
    "from nbdev.export import notebook2script; notebook2script()"
   ]
  },
  {
   "cell_type": "code",
   "execution_count": null,
   "id": "diverse-founder",
   "metadata": {},
   "outputs": [],
   "source": []
  },
  {
   "cell_type": "code",
   "execution_count": null,
   "id": "incorporated-external",
   "metadata": {},
   "outputs": [],
   "source": []
  }
 ],
 "metadata": {
  "kernelspec": {
   "display_name": "Python 3",
   "language": "python",
   "name": "python3"
  }
 },
 "nbformat": 4,
 "nbformat_minor": 5
}
