{
 "cells": [
  {
   "cell_type": "code",
   "execution_count": null,
   "id": "completed-material",
   "metadata": {},
   "outputs": [
    {
     "name": "stdout",
     "output_type": "stream",
     "text": [
      "The autoreload extension is already loaded. To reload it, use:\n",
      "  %reload_ext autoreload\n"
     ]
    }
   ],
   "source": [
    "# default_exp streamlit\n",
    "%load_ext autoreload\n",
    "%autoreload 2"
   ]
  },
  {
   "cell_type": "markdown",
   "id": "convertible-voluntary",
   "metadata": {},
   "source": [
    "# Streamlit App\n",
    "> A simple web app for Blurry"
   ]
  },
  {
   "cell_type": "code",
   "execution_count": null,
   "id": "electoral-documentary",
   "metadata": {},
   "outputs": [],
   "source": [
    "#export\n",
    "#from core import *\n",
    "#from blurry.core import *\n",
    "import blurry.core as bl\n",
    "import streamlit as st\n",
    "import numpy as np\n",
    "import base64\n",
    "from PIL import Image\n",
    "from io import BytesIO"
   ]
  },
  {
   "cell_type": "code",
   "execution_count": null,
   "id": "ahead-vault",
   "metadata": {},
   "outputs": [],
   "source": [
    "#export\n",
    "st.title(\"Blurry Faces\");\n",
    "st.write(\"Upload any photo with people in it, and this tool will pixelate the faces.\")\n",
    "uploaded_file = st.file_uploader(\"Upload a photo:\", type=['png', 'jpg', 'jpeg'], accept_multiple_files=False)"
   ]
  },
  {
   "cell_type": "markdown",
   "id": "demonstrated-disclaimer",
   "metadata": {},
   "source": [
    "TODO: Example images"
   ]
  },
  {
   "cell_type": "code",
   "execution_count": null,
   "id": "tough-brunei",
   "metadata": {},
   "outputs": [],
   "source": [
    "#export\n",
    "def get_image_download_link(img):\n",
    "    \"\"\"Generates a link allowing the PIL image to be downloaded\n",
    "    in:  PIL image\n",
    "    out: href string\n",
    "    \n",
    "    Source: https://discuss.streamlit.io/t/how-to-download-file-in-streamlit/1806/19\n",
    "    \"\"\"\n",
    "    buffered = BytesIO()\n",
    "    img.save(buffered, format=\"JPEG\")\n",
    "    img_str = base64.b64encode(buffered.getvalue()).decode()\n",
    "    href = f'<a href=\"data:file/jpg;base64,{img_str}\" download=\"blurredfaces.jpg\">Download result</a>'\n",
    "    return href"
   ]
  },
  {
   "cell_type": "code",
   "execution_count": null,
   "id": "equivalent-montana",
   "metadata": {},
   "outputs": [],
   "source": [
    "#export\n",
    "if uploaded_file is not None:\n",
    "    st.write(\"File uploaded, processing...\")\n",
    "    img = Image.open(uploaded_file)\n",
    "    img_array = np.array(img)\n",
    "    anon_img = bl.anonymize(img_array, mode='pixelate')\n",
    "    anon_img_pil = Image.fromarray(anon_img)\n",
    "    \n",
    "    st.image(anon_img, caption=\" \", use_column_width=True)\n",
    "    st.markdown(get_image_download_link(anon_img_pil), unsafe_allow_html=True)"
   ]
  },
  {
   "cell_type": "code",
   "execution_count": null,
   "id": "radio-gauge",
   "metadata": {},
   "outputs": [],
   "source": []
  },
  {
   "cell_type": "code",
   "execution_count": null,
   "id": "configured-phrase",
   "metadata": {},
   "outputs": [
    {
     "name": "stdout",
     "output_type": "stream",
     "text": [
      "Converted 00_core.ipynb.\n",
      "Converted 01_webcam.ipynb.\n",
      "Converted 02_cli.ipynb.\n",
      "Converted 03_streamlit.ipynb.\n",
      "Converted index.ipynb.\n"
     ]
    }
   ],
   "source": [
    "#hide\n",
    "from nbdev.export import notebook2script; notebook2script()"
   ]
  },
  {
   "cell_type": "code",
   "execution_count": null,
   "id": "pleasant-cargo",
   "metadata": {},
   "outputs": [],
   "source": []
  },
  {
   "cell_type": "code",
   "execution_count": null,
   "id": "analyzed-agent",
   "metadata": {},
   "outputs": [],
   "source": []
  }
 ],
 "metadata": {
  "kernelspec": {
   "display_name": "Python 3",
   "language": "python",
   "name": "python3"
  }
 },
 "nbformat": 4,
 "nbformat_minor": 5
}
