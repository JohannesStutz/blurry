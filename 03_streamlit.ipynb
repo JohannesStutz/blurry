{
 "cells": [
  {
   "cell_type": "code",
   "execution_count": null,
   "id": "hairy-orlando",
   "metadata": {},
   "outputs": [
    {
     "name": "stdout",
     "output_type": "stream",
     "text": [
      "The autoreload extension is already loaded. To reload it, use:\n",
      "  %reload_ext autoreload\n"
     ]
    }
   ],
   "source": [
    "# default_exp streamlit\n",
    "%load_ext autoreload\n",
    "%autoreload 2"
   ]
  },
  {
   "cell_type": "markdown",
   "id": "intellectual-proposition",
   "metadata": {},
   "source": [
    "# Streamlit App\n",
    "> A simple web app for Blurry"
   ]
  },
  {
   "cell_type": "code",
   "execution_count": null,
   "id": "mighty-providence",
   "metadata": {},
   "outputs": [],
   "source": [
    "#export\n",
    "#from core import *\n",
    "from blurry.core import *\n",
    "import streamlit as st\n",
    "import sys"
   ]
  },
  {
   "cell_type": "code",
   "execution_count": null,
   "id": "faced-southeast",
   "metadata": {},
   "outputs": [],
   "source": [
    "#export\n",
    "st.title(\"Hello\");"
   ]
  },
  {
   "cell_type": "code",
   "execution_count": null,
   "id": "unlike-threshold",
   "metadata": {},
   "outputs": [],
   "source": [
    "#export\n",
    "st.write(\"Hide faces\")\n",
    "uploaded_file = st.file_uploader(\"Upload an image\", type=['png', 'jpg'], accept_multiple_files=False)"
   ]
  },
  {
   "cell_type": "code",
   "execution_count": null,
   "id": "pleased-collins",
   "metadata": {},
   "outputs": [],
   "source": [
    "#export\n",
    "if uploaded_file is not None:\n",
    "    st.write(\"File uploaded!!!!!\")\n",
    "st.write(\"DOes this get printed?\")"
   ]
  },
  {
   "cell_type": "code",
   "execution_count": null,
   "id": "cosmetic-macintosh",
   "metadata": {},
   "outputs": [],
   "source": []
  },
  {
   "cell_type": "code",
   "execution_count": null,
   "id": "advanced-sauce",
   "metadata": {},
   "outputs": [
    {
     "name": "stdout",
     "output_type": "stream",
     "text": [
      "Converted 00_core.ipynb.\n",
      "Converted 01_webcam.ipynb.\n",
      "Converted 02_cli.ipynb.\n",
      "Converted 03_streamlit.ipynb.\n",
      "Converted index.ipynb.\n"
     ]
    }
   ],
   "source": [
    "#hide\n",
    "from nbdev.export import notebook2script; notebook2script()"
   ]
  },
  {
   "cell_type": "code",
   "execution_count": null,
   "id": "animal-float",
   "metadata": {},
   "outputs": [],
   "source": []
  },
  {
   "cell_type": "code",
   "execution_count": null,
   "id": "strategic-glenn",
   "metadata": {},
   "outputs": [],
   "source": []
  }
 ],
 "metadata": {
  "kernelspec": {
   "display_name": "Python 3",
   "language": "python",
   "name": "python3"
  }
 },
 "nbformat": 4,
 "nbformat_minor": 5
}
