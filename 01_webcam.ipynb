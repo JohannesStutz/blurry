{
 "cells": [
  {
   "cell_type": "code",
   "execution_count": null,
   "metadata": {},
   "outputs": [],
   "source": [
    "# default_export webcam"
   ]
  },
  {
   "cell_type": "markdown",
   "metadata": {},
   "source": [
    "# Webcam"
   ]
  },
  {
   "cell_type": "code",
   "execution_count": null,
   "metadata": {},
   "outputs": [],
   "source": [
    "#hide\n",
    "from blurry.core import *\n",
    "import cv2\n",
    "%load_ext autoreload\n",
    "%autoreload 2"
   ]
  },
  {
   "cell_type": "markdown",
   "metadata": {},
   "source": [
    "A lot of code is from [Jimmie Munyi](https://jimmiemunyi.github.io/blog/tutorial/2021/01/21/Sign-Language-Inference-with-WebCam.html), thank you!"
   ]
  },
  {
   "cell_type": "code",
   "execution_count": null,
   "metadata": {},
   "outputs": [],
   "source": [
    "# capture video on the webcam\n",
    "cap = cv2.VideoCapture(0)\n",
    "\n",
    "# get the dimensions on the frame\n",
    "frame_width = int(cap.get(3))\n",
    "frame_height = int(cap.get(4))\n",
    "\n",
    "# define codec and create our VideoWriter to save the video\n",
    "fourcc = cv2.VideoWriter_fourcc(*'mp4v')\n",
    "out = cv2.VideoWriter('videos/test2.mp4', fourcc, 8, (frame_width, frame_height))\n",
    "\n",
    "# read video\n",
    "while True:\n",
    "    # capture each frame of the video\n",
    "    ret, frame = cap.read()\n",
    "\n",
    "    # flip frame to feel more 'natural' to webcam\n",
    "    frame = cv2.flip(frame, flipCode = 1)\n",
    "    frame = anonymize(frame, convert2rgb=False)\n",
    "    cv2.imshow('frame', frame)\n",
    "    # save the frames to out file\n",
    "    out.write(frame)\n",
    "    # press `q` to exit\n",
    "    if cv2.waitKey(1) & 0xFF == ord('q'):\n",
    "        break\n",
    "\n",
    "# release VideoCapture()\n",
    "cap.release()\n",
    "# release out file\n",
    "out.release()\n",
    "# close all frames and video windows\n",
    "cv2.destroyAllWindows()"
   ]
  },
  {
   "cell_type": "code",
   "execution_count": null,
   "metadata": {},
   "outputs": [],
   "source": []
  }
 ],
 "metadata": {
  "kernelspec": {
   "display_name": "data-sci",
   "language": "python",
   "name": "data-sci"
  }
 },
 "nbformat": 4,
 "nbformat_minor": 4
}
